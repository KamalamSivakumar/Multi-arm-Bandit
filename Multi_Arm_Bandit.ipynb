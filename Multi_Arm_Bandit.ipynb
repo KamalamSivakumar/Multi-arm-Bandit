{
  "nbformat": 4,
  "nbformat_minor": 0,
  "metadata": {
    "colab": {
      "provenance": []
    },
    "kernelspec": {
      "name": "python3",
      "display_name": "Python 3"
    }
  },
  "cells": [
    {
      "cell_type": "markdown",
      "metadata": {
        "id": "6grSQyTvuWpU"
      },
      "source": [
        "Greedy Approach"
      ]
    },
    {
      "cell_type": "code",
      "metadata": {
        "id": "tRBYKrikzhgR"
      },
      "source": [
        "import random\n",
        "import numpy as np\n",
        "import math"
      ],
      "execution_count": null,
      "outputs": []
    },
    {
      "cell_type": "code",
      "metadata": {
        "id": "9SGQJDB1zXY7"
      },
      "source": [
        "no_arms = 10\n",
        "iterations = 1000\n",
        "q = np.zeros((no_arms, 1))\n",
        "count = np.zeros((no_arms, 1))"
      ],
      "execution_count": null,
      "outputs": []
    },
    {
      "cell_type": "code",
      "metadata": {
        "id": "17nEinGWzndj"
      },
      "source": [
        "def greedy_assign_reward():\n",
        "  for i in range(iterations):\n",
        "    if i < 100:\n",
        "      arm = random.randint(1, no_arms)\n",
        "    else:\n",
        "      arm = np.argmax(q) + 1\n",
        "    count[arm - 1] = count[arm - 1] + 1\n",
        "    reward = random.randint(1, 100)\n",
        "    q[arm - 1] = q[arm - 1] + int((1 / count[arm - 1]) * (reward - q[arm - 1]))\n",
        "  return q, np.sum(q)"
      ],
      "execution_count": null,
      "outputs": []
    },
    {
      "cell_type": "code",
      "metadata": {
        "id": "oeHfBb_RD7yN"
      },
      "source": [
        "q, total_reward = greedy_assign_reward()"
      ],
      "execution_count": null,
      "outputs": []
    },
    {
      "cell_type": "code",
      "metadata": {
        "colab": {
          "base_uri": "https://localhost:8080/"
        },
        "id": "ipq8TeZASTMN",
        "outputId": "b00ef889-a76c-4e67-9726-afe5cd88582b"
      },
      "source": [
        "q, total_reward"
      ],
      "execution_count": null,
      "outputs": [
        {
          "output_type": "execute_result",
          "data": {
            "text/plain": [
              "(array([[52.],\n",
              "        [52.],\n",
              "        [52.],\n",
              "        [35.],\n",
              "        [42.],\n",
              "        [49.],\n",
              "        [51.],\n",
              "        [55.],\n",
              "        [44.],\n",
              "        [50.]]), 482.0)"
            ]
          },
          "metadata": {
            "tags": []
          },
          "execution_count": 5
        }
      ]
    },
    {
      "cell_type": "markdown",
      "metadata": {
        "id": "CDcmRti3usOY"
      },
      "source": [
        "Epsilon Greedy Approach"
      ]
    },
    {
      "cell_type": "code",
      "metadata": {
        "id": "AhPprG2wuzRz"
      },
      "source": [
        "no_arms = 10\n",
        "iterations = 1000\n",
        "epsilon = 0.8\n",
        "q = np.zeros((no_arms, 1))\n",
        "count = np.zeros((no_arms, 1))"
      ],
      "execution_count": null,
      "outputs": []
    },
    {
      "cell_type": "code",
      "metadata": {
        "id": "wlPsGXtSuuWi"
      },
      "source": [
        "def egreedy_assign_reward():\n",
        "  for i in range(iterations):\n",
        "    prob_val = random.randint(0, 1)\n",
        "    if prob_val < epsilon:\n",
        "      arm = random.randint(1, no_arms)\n",
        "    else:\n",
        "      arm = np.argmax(q) + 1\n",
        "    count[arm - 1] = count[arm - 1] + 1\n",
        "    reward = random.randint(1, 100)\n",
        "    q[arm - 1] = q[arm - 1] + int((1 / count[arm - 1]) * (reward - q[arm - 1]))\n",
        "  return q, np.sum(q)"
      ],
      "execution_count": null,
      "outputs": []
    },
    {
      "cell_type": "code",
      "metadata": {
        "id": "tVKLfP7MwIGu"
      },
      "source": [
        "q, total_reward = egreedy_assign_reward()"
      ],
      "execution_count": null,
      "outputs": []
    },
    {
      "cell_type": "code",
      "metadata": {
        "colab": {
          "base_uri": "https://localhost:8080/"
        },
        "id": "fA85Gaa9xOhs",
        "outputId": "402c4e5a-d3c8-4ced-a24a-7c179078b0c2"
      },
      "source": [
        "q, total_reward"
      ],
      "execution_count": null,
      "outputs": [
        {
          "output_type": "execute_result",
          "data": {
            "text/plain": [
              "(array([[54.],\n",
              "        [56.],\n",
              "        [47.],\n",
              "        [50.],\n",
              "        [47.],\n",
              "        [56.],\n",
              "        [44.],\n",
              "        [54.],\n",
              "        [47.],\n",
              "        [48.]]), 503.0)"
            ]
          },
          "metadata": {
            "tags": []
          },
          "execution_count": 9
        }
      ]
    },
    {
      "cell_type": "markdown",
      "metadata": {
        "id": "S5-53lf9yR7n"
      },
      "source": [
        "Decayed Epsilon"
      ]
    },
    {
      "cell_type": "code",
      "metadata": {
        "id": "OY0Pjf3iyTgH"
      },
      "source": [
        "no_arms = 10\n",
        "iterations = 10000\n",
        "q = np.zeros((no_arms, 1))\n",
        "count = np.zeros((no_arms, 1))"
      ],
      "execution_count": null,
      "outputs": []
    },
    {
      "cell_type": "code",
      "metadata": {
        "id": "vvIazTFnyiDS"
      },
      "source": [
        "def d_e_greedy_assign_reward():\n",
        "  for i in range(iterations):\n",
        "    epsilon = 1 / math.log(i + 0.00001)\n",
        "    prob_val = random.randint(0, 1)\n",
        "    if prob_val < epsilon:\n",
        "      arm = random.randint(1, no_arms)\n",
        "    else:\n",
        "      arm = np.argmax(q) + 1\n",
        "    count[arm - 1] = count[arm - 1] + 1\n",
        "    reward = random.randint(1, 100)\n",
        "    q[arm - 1] = q[arm - 1] + int((1 / count[arm - 1]) * (reward - q[arm - 1]))\n",
        "  return q, np.sum(q)"
      ],
      "execution_count": null,
      "outputs": []
    },
    {
      "cell_type": "code",
      "metadata": {
        "id": "9s-oD61Zy4DZ"
      },
      "source": [
        "q, total_reward = d_e_greedy_assign_reward()"
      ],
      "execution_count": null,
      "outputs": []
    },
    {
      "cell_type": "code",
      "metadata": {
        "colab": {
          "base_uri": "https://localhost:8080/"
        },
        "id": "3aZdmZ_-y6Zi",
        "outputId": "add1a006-b748-4464-f408-dbcf5db3cf11"
      },
      "source": [
        "q, total_reward"
      ],
      "execution_count": null,
      "outputs": [
        {
          "output_type": "execute_result",
          "data": {
            "text/plain": [
              "(array([[52.],\n",
              "        [48.],\n",
              "        [52.],\n",
              "        [44.],\n",
              "        [53.],\n",
              "        [58.],\n",
              "        [46.],\n",
              "        [52.],\n",
              "        [56.],\n",
              "        [50.]]), 511.0)"
            ]
          },
          "metadata": {
            "tags": []
          },
          "execution_count": 13
        }
      ]
    },
    {
      "cell_type": "markdown",
      "metadata": {
        "id": "4I-XrBDKzT-W"
      },
      "source": [
        "Upper Confidence Bound"
      ]
    },
    {
      "cell_type": "code",
      "metadata": {
        "id": "bgfwL1CBy7D9"
      },
      "source": [
        "no_arms = 10\n",
        "iterations = 1000\n",
        "q = np.zeros((no_arms, 1))\n",
        "count = np.zeros((no_arms, 1))"
      ],
      "execution_count": null,
      "outputs": []
    },
    {
      "cell_type": "code",
      "metadata": {
        "id": "rkVkNnvXzyUG"
      },
      "source": [
        "def ucb_assign_reward():\n",
        "  for i in range(iterations):\n",
        "    if i < no_arms:\n",
        "      arm = i + 1\n",
        "    else:\n",
        "      for j in range(no_arms):\n",
        "        arm = 0\n",
        "        q[j] = q[j] + int(np.sqrt((2*np.log(i))/count[j]))\n",
        "      arm = np.argmax(q) + 1\n",
        "    count[arm - 1] = count[arm - 1] + 1\n",
        "    reward = random.randint(1, 100)\n",
        "    q[arm - 1] = q[arm - 1] + int((1 / count[arm - 1]) * (reward - q[arm - 1]))\n",
        "  return q, np.sum(q)"
      ],
      "execution_count": null,
      "outputs": []
    },
    {
      "cell_type": "code",
      "metadata": {
        "id": "KtPg0NgMvXrC"
      },
      "source": [
        "q, total_reward = ucb_assign_reward()"
      ],
      "execution_count": null,
      "outputs": []
    },
    {
      "cell_type": "code",
      "metadata": {
        "id": "vEnmrXYxvbbY",
        "colab": {
          "base_uri": "https://localhost:8080/"
        },
        "outputId": "fd64cf30-c419-4010-8360-3fb27bb855ab"
      },
      "source": [
        "q, total_reward"
      ],
      "execution_count": null,
      "outputs": [
        {
          "output_type": "execute_result",
          "data": {
            "text/plain": [
              "(array([[59.],\n",
              "        [59.],\n",
              "        [59.],\n",
              "        [58.],\n",
              "        [59.],\n",
              "        [59.],\n",
              "        [60.],\n",
              "        [59.],\n",
              "        [60.],\n",
              "        [60.]]), 592.0)"
            ]
          },
          "metadata": {
            "tags": []
          },
          "execution_count": 17
        }
      ]
    },
    {
      "cell_type": "markdown",
      "metadata": {
        "id": "jmgkSomNXfOv"
      },
      "source": [
        "Incremental Uniform"
      ]
    },
    {
      "cell_type": "code",
      "metadata": {
        "id": "vx_37lshvdk_"
      },
      "source": [
        "no_arms = 10\n",
        "iterations = 1000\n",
        "q = np.zeros((no_arms, 1))\n",
        "count = np.zeros((no_arms, 1))"
      ],
      "execution_count": null,
      "outputs": []
    },
    {
      "cell_type": "code",
      "metadata": {
        "id": "1IguuijpX3fD"
      },
      "source": [
        "def inc_uniform():\n",
        "  for i in range(iterations):\n",
        "    arm = (i % no_arms) + 1\n",
        "    count[arm - 1] = count[arm - 1] + 1\n",
        "    reward = random.randint(1, 100)\n",
        "    q[arm - 1] = q[arm - 1] + int((1 / count[arm - 1]) * (reward - q[arm - 1]))\n",
        "  return q, np.sum(q)"
      ],
      "execution_count": null,
      "outputs": []
    },
    {
      "cell_type": "code",
      "metadata": {
        "id": "psmRsXwFYlAv"
      },
      "source": [
        "q, total_reward = inc_uniform()"
      ],
      "execution_count": null,
      "outputs": []
    },
    {
      "cell_type": "code",
      "metadata": {
        "colab": {
          "base_uri": "https://localhost:8080/"
        },
        "id": "oJjprZsDYpmn",
        "outputId": "b0dc2e5d-2b67-4dcc-ca08-7a579d5106f0"
      },
      "source": [
        "q, total_reward"
      ],
      "execution_count": null,
      "outputs": [
        {
          "output_type": "execute_result",
          "data": {
            "text/plain": [
              "(array([[49.],\n",
              "        [44.],\n",
              "        [50.],\n",
              "        [56.],\n",
              "        [53.],\n",
              "        [50.],\n",
              "        [48.],\n",
              "        [48.],\n",
              "        [53.],\n",
              "        [53.]]), 504.0)"
            ]
          },
          "metadata": {
            "tags": []
          },
          "execution_count": 21
        }
      ]
    }
  ]
}